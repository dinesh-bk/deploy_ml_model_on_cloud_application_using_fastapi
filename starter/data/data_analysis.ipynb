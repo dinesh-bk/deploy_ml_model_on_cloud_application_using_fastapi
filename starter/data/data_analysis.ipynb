{
 "cells": [
  {
   "cell_type": "code",
   "execution_count": 1,
   "metadata": {},
   "outputs": [],
   "source": [
    "import pandas as pd\n",
    "import requests\n",
    "\n",
    "# URL to the dataset\n",
    "url = 'https://archive.ics.uci.edu/ml/machine-learning-databases/adult/adult.data'\n",
    "\n",
    "# Download the data\n",
    "response = requests.get(url)\n",
    "data = response.content.decode('utf-8')\n",
    "\n",
    "# Save the data to a file\n",
    "with open('census_income.data', 'w') as f:\n",
    "    f.write(data)\n",
    "\n",
    "# Load the data into a pandas DataFrame\n",
    "column_names = ['age', 'workclass', 'fnlwgt', 'education', 'education-num', 'marital-status', \n",
    "                'occupation', 'relationship', 'race', 'sex', 'capital-gain', 'capital-loss', \n",
    "                'hours-per-week', 'native-country', 'salary']\n",
    "\n",
    "df = pd.read_csv('census_income.data', names=column_names, na_values=' ?', skipinitialspace=True)\n",
    "\n",
    "# Remove leading and trailing spaces\n",
    "df = df.applymap(lambda x: x.strip() if isinstance(x, str) else x)\n",
    "\n",
    "# Drop rows with missing values\n",
    "df.dropna(inplace=True)\n",
    "\n",
    "# Save the cleaned data\n",
    "df.to_csv('census_income_clean.csv', index=False)"
   ]
  }
 ],
 "metadata": {
  "kernelspec": {
   "display_name": "project4",
   "language": "python",
   "name": "python3"
  },
  "language_info": {
   "codemirror_mode": {
    "name": "ipython",
    "version": 3
   },
   "file_extension": ".py",
   "mimetype": "text/x-python",
   "name": "python",
   "nbconvert_exporter": "python",
   "pygments_lexer": "ipython3",
   "version": "3.8.19"
  }
 },
 "nbformat": 4,
 "nbformat_minor": 2
}
